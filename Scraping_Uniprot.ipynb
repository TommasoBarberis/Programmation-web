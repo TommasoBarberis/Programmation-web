{
 "cells": [
  {
   "cell_type": "markdown",
   "id": "f3532150",
   "metadata": {},
   "source": [
    "# Scraping et API Web"
   ]
  },
  {
   "cell_type": "code",
   "execution_count": 64,
   "id": "235c325e",
   "metadata": {},
   "outputs": [],
   "source": [
    "# Import libraries\n",
    "import requests\n",
    "import bs4\n",
    "from collections import Counter"
   ]
  },
  {
   "cell_type": "code",
   "execution_count": 3,
   "id": "101c80cf",
   "metadata": {},
   "outputs": [],
   "source": [
    "ex_id = \"UPI000000001F\"\n",
    "domain = \"https://www.uniprot.org/uniparc/\""
   ]
  },
  {
   "cell_type": "code",
   "execution_count": 97,
   "id": "17720069",
   "metadata": {},
   "outputs": [],
   "source": [
    "def count_species(organisms_list):\n",
    "    organisms_list = dict(Counter(organisms_list))\n",
    "    for key in organisms_list.keys():\n",
    "        print(str(organisms_list[key]) + \"\\t\" + key)\n",
    "    "
   ]
  },
  {
   "cell_type": "code",
   "execution_count": 98,
   "id": "16551772",
   "metadata": {},
   "outputs": [
    {
     "name": "stdout",
     "output_type": "stream",
     "text": [
      "3\tVaccinia virus (strain Western Reserve) (VACV) (Vaccinia virus (strain WR))\n",
      "2\tVaccinia virus (strain Copenhagen) (VACV)\n",
      "2\tVaccinia virus (strain Ankara) (VACV)\n",
      "2\tVaccinia virus (strain Tian Tan) (VACV)\n",
      "11\tVaccinia virus\n",
      "2\tVaccinia virus WAU86/88-1\n"
     ]
    }
   ],
   "source": [
    "def scrap_uniparc(id_prot):\n",
    "    # get the request\n",
    "    req = requests.get(domain + id_prot)\n",
    "    # parse the html\n",
    "    soup = bs4.BeautifulSoup(req.content, 'html.parser')\n",
    "    # get all the lines of the table\n",
    "    trs = soup.findAll(\"tr\")\n",
    "    \n",
    "    organisms = []\n",
    "    \n",
    "    for tr in trs:\n",
    "        a_tags = tr.findAll(\"a\")\n",
    "        \n",
    "        for a_tag in a_tags:\n",
    "            if type(a_tag.get(\"href\")) is str:\n",
    "                href = a_tag.get(\"href\")\n",
    "            \n",
    "                if href.startswith(\"/taxonomy\"):\n",
    "                    organism = a_tag.get_text()\n",
    "                    organisms.append(organism)\n",
    "    count_species(organisms)\n",
    "\n",
    "        \n",
    "    \n",
    "scrap_uniparc(ex_id)"
   ]
  },
  {
   "cell_type": "code",
   "execution_count": 99,
   "id": "3886e3d3",
   "metadata": {},
   "outputs": [
    {
     "name": "stdout",
     "output_type": "stream",
     "text": [
      "4\tVaccinia virus (strain Western Reserve) (VACV) (Vaccinia virus (strain WR))\n",
      "2\tVaccinia virus (strain Copenhagen) (VACV)\n",
      "3\tVaccinia virus (strain Ankara) (VACV)\n",
      "2\tVaccinia virus (strain Tian Tan) (VACV)\n",
      "25\tVaccinia virus\n",
      "2\tVaccinia virus WAU86/88-1\n",
      "1\tBAC cloning vector pLC16m8.8S-BAC\n",
      "4\tsynthetic construct\n"
     ]
    }
   ],
   "source": [
    "def from_api(id_prot):\n",
    "    # get the request\n",
    "    req = requests.get(domain + id_prot + \".tab\")\n",
    "    df = req.text\n",
    "    lines = df.split(\"\\n\")[1:]\n",
    "    try:\n",
    "        while True:\n",
    "            lines.remove(\"\")\n",
    "    except ValueError:\n",
    "        pass\n",
    "    \n",
    "    organisms = []\n",
    "    for line in lines:\n",
    "        try:\n",
    "            organism = line.split(\"\\t\")[3]\n",
    "            if organism != \"\":\n",
    "                organisms.append(organism)\n",
    "        except ValueError:\n",
    "            pass\n",
    "    count_species(organisms)\n",
    "            \n",
    "    \n",
    "from_api(ex_id)"
   ]
  }
 ],
 "metadata": {
  "kernelspec": {
   "display_name": "Python 3 (ipykernel)",
   "language": "python",
   "name": "python3"
  },
  "language_info": {
   "codemirror_mode": {
    "name": "ipython",
    "version": 3
   },
   "file_extension": ".py",
   "mimetype": "text/x-python",
   "name": "python",
   "nbconvert_exporter": "python",
   "pygments_lexer": "ipython3",
   "version": "3.8.10"
  }
 },
 "nbformat": 4,
 "nbformat_minor": 5
}
